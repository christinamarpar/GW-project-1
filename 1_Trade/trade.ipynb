{
 "cells": [
  {
   "cell_type": "code",
   "execution_count": 1,
   "metadata": {},
   "outputs": [],
   "source": [
    "#Trade group\n",
    "#Christina and Arjun"
   ]
  },
  {
   "cell_type": "code",
   "execution_count": 2,
   "metadata": {},
   "outputs": [],
   "source": [
    "#Helpful links:\n",
    "#SOURCE: https://www.census.gov/data/developers/data-sets/international-trade.html\n",
    "#DOCUMENTATION: https://www.census.gov/foreign-trade/reference/guides/Guide%20to%20International%20Trade%20Datasets.pdf\n",
    "#NAICS ENDPOINT DOCUMENTATION: https://api.census.gov/data/timeseries/intltrade/imports/naics/variables.html"
   ]
  },
  {
   "cell_type": "code",
   "execution_count": 3,
   "metadata": {},
   "outputs": [],
   "source": [
    "#Useful dates:\n",
    "#March 1 = announced\n",
    "#March 8 = signed\n",
    "#March 23 = in effect"
   ]
  },
  {
   "cell_type": "code",
   "execution_count": 4,
   "metadata": {},
   "outputs": [],
   "source": [
    "# Census Trade API Key\n",
    "from config import api_key"
   ]
  },
  {
   "cell_type": "code",
   "execution_count": 4,
   "metadata": {},
   "outputs": [],
   "source": [
    "# Set-up request\n",
    "base_url = \"https://api.census.gov/data/timeseries/intltrade/imports/naics\"\n",
    "# Interested in steel and aluminum (NAICS==331)\n",
    "    # Motivation: https://www.usatoday.com/story/news/politics/2018/03/08/trump-planning-make-formal-tariff-announcement/406065002/\n",
    "    # NAICS info: https://www.bls.gov/iag/tgs/iag331.htm"
   ]
  },
  {
   "cell_type": "code",
   "execution_count": 5,
   "metadata": {},
   "outputs": [],
   "source": [
    "#SET UP INITIAL PARAMETERS\n",
    "# CON_CHA_MO = Imports for Consumption, Charges \n",
    "# CON_CIF_MO = Imports for Consumption, CIF Value\n",
    "# CON_VAL_MO = Imports for Consumption, Total Value\n",
    "# CTY_NAME = 50-character Country Name - **API call must also include CTY_CODE parameter**\n",
    "# NAICS_LDESC = 150-character NAICS Description - **API call must also include NAICS parameter**\n",
    "# NAICS_SDESC = 50-character NAICS Description -**API call must also include NAICS parameter**\n",
    "\n",
    "params = {\n",
    "    \"key\": api_key,\n",
    "    \"get\" : \"CON_CHA_MO,CON_CIF_MO,CON_VAL_MO,CTY_NAME,NAICS_LDESC,NAICS_SDESC\",\n",
    "    \"COMM_LVL\": \"NA3\",\n",
    "    \"CTY_CODE\": 5700,\n",
    "    \"NAICS\" : 331,\n",
    "    \n",
    "}\n",
    "\n",
    "#Add these in the appropriate loop...\n",
    "#\"YEAR\" : \n",
    "#\"MONTH\" :\n",
    "\n",
    "#CON_CHA_MO = (monthly) 15-digit Imports for Consumption, Charges\n",
    "#CON_CIF_MO = (monthly) 15-digit Imports for Consumption, Insurance and Freight charges\n",
    "#CON_VAL_MO = (monthly) Aggregate of above two\n",
    "#CTY_NAME = 50-character Country Name\n",
    "#NAICS_LDESC = 150-character NAICS Description\n",
    "#NAICS_SDESC = 50-character NAICS Description\n",
    "\n",
    "#CTY_CODE = 4-character Country Code\n",
    "#https://www.census.gov/foreign-trade/schedules/c/country.txt\n",
    "#NAICS = 2-, 3-, 4-, or 6-character NAICS code\n",
    "\n",
    "#time = ISO-8601 Date/Time value\n",
    "#MONTH = 2-character Month\n",
    "#YEAR = 4-character Year"
   ]
  },
  {
   "cell_type": "code",
   "execution_count": null,
   "metadata": {},
   "outputs": [],
   "source": [
    "#Make API calls\n",
    "#Don't forget to update params month and year values in the loop"
   ]
  }
 ],
 "metadata": {
  "kernelspec": {
   "display_name": "Python 3",
   "language": "python",
   "name": "python3"
  },
  "language_info": {
   "codemirror_mode": {
    "name": "ipython",
    "version": 3
   },
   "file_extension": ".py",
   "mimetype": "text/x-python",
   "name": "python",
   "nbconvert_exporter": "python",
   "pygments_lexer": "ipython3",
   "version": "3.6.4"
  }
 },
 "nbformat": 4,
 "nbformat_minor": 2
}
