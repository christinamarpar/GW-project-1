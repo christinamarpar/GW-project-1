{
 "cells": [
  {
   "cell_type": "code",
   "execution_count": 1,
   "metadata": {
    "collapsed": true
   },
   "outputs": [],
   "source": [
    "import pandas as pd\n",
    "import matplotlib.pyplot as plt\n",
    "import seaborn as sns\n",
    "import json\n",
    "import requests\n",
    "import time\n",
    "from config import stock_key"
   ]
  },
  {
   "cell_type": "code",
   "execution_count": 2,
   "metadata": {
    "collapsed": true
   },
   "outputs": [],
   "source": [
    "function = 'TIME_SERIES_DAILY'\n",
    "stock = ['AA','KALU','CENX', 'ACH', 'ARNC']\n",
    "apikey = stock_key\n",
    "\n",
    "url = 'https://www.alphavantage.co/'"
   ]
  },
  {
   "cell_type": "code",
   "execution_count": 3,
   "metadata": {
    "collapsed": true
   },
   "outputs": [],
   "source": [
    "stock_data = []\n",
    "       \n",
    "dates = ['2018-03-01', '2018-03-08']    \n",
    "\n",
    "for symbol in stock:\n",
    "    for x in dates:\n",
    "        query_url = requests.get(url + 'query?function=' + function + '&' + 'symbol=' + symbol + '&' + 'apikey=' + apikey).json()\n",
    "        open_price = query_url['Time Series (Daily)'][x]['1. open']\n",
    "        close_price = query_url['Time Series (Daily)'][x]['4. close']   \n",
    "        low_day = query_url['Time Series (Daily)'][x]['3. low']   \n",
    "        volume_day = query_url['Time Series (Daily)'][x]['5. volume']                                       \n",
    "                                \n",
    "                                         \n",
    "        stock_data.append({'Stock':  symbol, 'Date' : x, 'Open Price' : open_price, 'Close_Price' : close_price, 'Low': low_day, 'Volume' : volume_day})\n",
    "        data_final = pd.DataFrame(stock_data)"
   ]
  },
  {
   "cell_type": "code",
   "execution_count": 4,
   "metadata": {},
   "outputs": [
    {
     "data": {
      "text/html": [
       "<div>\n",
       "<style>\n",
       "    .dataframe thead tr:only-child th {\n",
       "        text-align: right;\n",
       "    }\n",
       "\n",
       "    .dataframe thead th {\n",
       "        text-align: left;\n",
       "    }\n",
       "\n",
       "    .dataframe tbody tr th {\n",
       "        vertical-align: top;\n",
       "    }\n",
       "</style>\n",
       "<table border=\"1\" class=\"dataframe\">\n",
       "  <thead>\n",
       "    <tr style=\"text-align: right;\">\n",
       "      <th></th>\n",
       "      <th>Close_Price</th>\n",
       "      <th>Date</th>\n",
       "      <th>Low</th>\n",
       "      <th>Open Price</th>\n",
       "      <th>Stock</th>\n",
       "      <th>Volume</th>\n",
       "    </tr>\n",
       "  </thead>\n",
       "  <tbody>\n",
       "    <tr>\n",
       "      <th>0</th>\n",
       "      <td>45.0700</td>\n",
       "      <td>2018-03-01</td>\n",
       "      <td>44.5800</td>\n",
       "      <td>45.9300</td>\n",
       "      <td>AA</td>\n",
       "      <td>6501728</td>\n",
       "    </tr>\n",
       "    <tr>\n",
       "      <th>1</th>\n",
       "      <td>47.4700</td>\n",
       "      <td>2018-03-08</td>\n",
       "      <td>46.5450</td>\n",
       "      <td>47.8800</td>\n",
       "      <td>AA</td>\n",
       "      <td>3105316</td>\n",
       "    </tr>\n",
       "    <tr>\n",
       "      <th>2</th>\n",
       "      <td>101.8100</td>\n",
       "      <td>2018-03-01</td>\n",
       "      <td>100.1900</td>\n",
       "      <td>100.9900</td>\n",
       "      <td>KALU</td>\n",
       "      <td>113758</td>\n",
       "    </tr>\n",
       "    <tr>\n",
       "      <th>3</th>\n",
       "      <td>104.7900</td>\n",
       "      <td>2018-03-08</td>\n",
       "      <td>102.0900</td>\n",
       "      <td>104.0300</td>\n",
       "      <td>KALU</td>\n",
       "      <td>130132</td>\n",
       "    </tr>\n",
       "    <tr>\n",
       "      <th>4</th>\n",
       "      <td>20.4800</td>\n",
       "      <td>2018-03-01</td>\n",
       "      <td>19.3000</td>\n",
       "      <td>20.1300</td>\n",
       "      <td>CENX</td>\n",
       "      <td>5696029</td>\n",
       "    </tr>\n",
       "    <tr>\n",
       "      <th>5</th>\n",
       "      <td>19.6600</td>\n",
       "      <td>2018-03-08</td>\n",
       "      <td>19.1200</td>\n",
       "      <td>21.4500</td>\n",
       "      <td>CENX</td>\n",
       "      <td>4743236</td>\n",
       "    </tr>\n",
       "    <tr>\n",
       "      <th>6</th>\n",
       "      <td>14.7200</td>\n",
       "      <td>2018-03-01</td>\n",
       "      <td>14.6100</td>\n",
       "      <td>14.9400</td>\n",
       "      <td>ACH</td>\n",
       "      <td>75722</td>\n",
       "    </tr>\n",
       "    <tr>\n",
       "      <th>7</th>\n",
       "      <td>14.7200</td>\n",
       "      <td>2018-03-08</td>\n",
       "      <td>14.5100</td>\n",
       "      <td>14.6700</td>\n",
       "      <td>ACH</td>\n",
       "      <td>64908</td>\n",
       "    </tr>\n",
       "    <tr>\n",
       "      <th>8</th>\n",
       "      <td>24.0200</td>\n",
       "      <td>2018-03-01</td>\n",
       "      <td>23.8300</td>\n",
       "      <td>24.4600</td>\n",
       "      <td>ARNC</td>\n",
       "      <td>3461488</td>\n",
       "    </tr>\n",
       "    <tr>\n",
       "      <th>9</th>\n",
       "      <td>24.8000</td>\n",
       "      <td>2018-03-08</td>\n",
       "      <td>24.3550</td>\n",
       "      <td>24.7500</td>\n",
       "      <td>ARNC</td>\n",
       "      <td>2163553</td>\n",
       "    </tr>\n",
       "  </tbody>\n",
       "</table>\n",
       "</div>"
      ],
      "text/plain": [
       "  Close_Price        Date       Low Open Price Stock   Volume\n",
       "0     45.0700  2018-03-01   44.5800    45.9300    AA  6501728\n",
       "1     47.4700  2018-03-08   46.5450    47.8800    AA  3105316\n",
       "2    101.8100  2018-03-01  100.1900   100.9900  KALU   113758\n",
       "3    104.7900  2018-03-08  102.0900   104.0300  KALU   130132\n",
       "4     20.4800  2018-03-01   19.3000    20.1300  CENX  5696029\n",
       "5     19.6600  2018-03-08   19.1200    21.4500  CENX  4743236\n",
       "6     14.7200  2018-03-01   14.6100    14.9400   ACH    75722\n",
       "7     14.7200  2018-03-08   14.5100    14.6700   ACH    64908\n",
       "8     24.0200  2018-03-01   23.8300    24.4600  ARNC  3461488\n",
       "9     24.8000  2018-03-08   24.3550    24.7500  ARNC  2163553"
      ]
     },
     "execution_count": 4,
     "metadata": {},
     "output_type": "execute_result"
    }
   ],
   "source": [
    "data_final"
   ]
  },
  {
   "cell_type": "code",
   "execution_count": null,
   "metadata": {
    "collapsed": true
   },
   "outputs": [],
   "source": []
  }
 ],
 "metadata": {
  "kernelspec": {
   "display_name": "Python 3",
   "language": "python",
   "name": "python3"
  },
  "language_info": {
   "codemirror_mode": {
    "name": "ipython",
    "version": 3
   },
   "file_extension": ".py",
   "mimetype": "text/x-python",
   "name": "python",
   "nbconvert_exporter": "python",
   "pygments_lexer": "ipython3",
   "version": "3.6.3"
  }
 },
 "nbformat": 4,
 "nbformat_minor": 2
}
