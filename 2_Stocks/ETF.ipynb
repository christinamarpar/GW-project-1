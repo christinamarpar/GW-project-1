{
 "cells": [
  {
   "cell_type": "code",
   "execution_count": 19,
   "metadata": {
    "collapsed": true
   },
   "outputs": [],
   "source": [
    "import pandas as pd\n",
    "import matplotlib.pyplot as plt\n",
    "import seaborn as sns\n",
    "import json\n",
    "import requests\n",
    "import time\n",
    "from config import stock_key"
   ]
  },
  {
   "cell_type": "code",
   "execution_count": 34,
   "metadata": {
    "collapsed": true
   },
   "outputs": [],
   "source": [
    "function = 'TIME_SERIES_DAILY'\n",
    "stock = 'XME'\n",
    "apikey = stock_key\n",
    "\n",
    "url = 'https://www.alphavantage.co/'"
   ]
  },
  {
   "cell_type": "code",
   "execution_count": 83,
   "metadata": {},
   "outputs": [],
   "source": [
    "stock_data = []\n",
    "       \n",
    "dates = ['2018-03-01', '2018-03-08']    \n",
    "\n",
    "for x in dates:\n",
    "    query_url = requests.get(url + 'query?function=' + function + '&' + 'symbol=' + stock + '&' + 'apikey=' \n",
    "                    + apikey).json()\n",
    "    open_price = query_url['Time Series (Daily)'][x]['1. open']\n",
    "    close_price = query_url['Time Series (Daily)'][x]['4. close']   \n",
    "    low_day = query_url['Time Series (Daily)'][x]['3. low']   \n",
    "    volume_day = query_url['Time Series (Daily)'][x]['5. volume']                                       \n",
    "                                \n",
    "                                         \n",
    "    stock_data.append({'Stock':  stock, 'Date' : x, 'Open Price' : open_price, 'Close_Price' : close_price, 'Low': low_day, 'Volume' : volume_day})\n",
    "    data_final = pd.DataFrame(date_final)"
   ]
  },
  {
   "cell_type": "code",
   "execution_count": 84,
   "metadata": {},
   "outputs": [
    {
     "data": {
      "text/html": [
       "<div>\n",
       "<style>\n",
       "    .dataframe thead tr:only-child th {\n",
       "        text-align: right;\n",
       "    }\n",
       "\n",
       "    .dataframe thead th {\n",
       "        text-align: left;\n",
       "    }\n",
       "\n",
       "    .dataframe tbody tr th {\n",
       "        vertical-align: top;\n",
       "    }\n",
       "</style>\n",
       "<table border=\"1\" class=\"dataframe\">\n",
       "  <thead>\n",
       "    <tr style=\"text-align: right;\">\n",
       "      <th></th>\n",
       "      <th>Close_Price</th>\n",
       "      <th>Date</th>\n",
       "      <th>Low</th>\n",
       "      <th>Open Price</th>\n",
       "      <th>Stock</th>\n",
       "      <th>Volume</th>\n",
       "    </tr>\n",
       "  </thead>\n",
       "  <tbody>\n",
       "    <tr>\n",
       "      <th>0</th>\n",
       "      <td>36.9600</td>\n",
       "      <td>2018-03-01</td>\n",
       "      <td>36.1300</td>\n",
       "      <td>36.5100</td>\n",
       "      <td>XME</td>\n",
       "      <td>5556517</td>\n",
       "    </tr>\n",
       "    <tr>\n",
       "      <th>1</th>\n",
       "      <td>36.9100</td>\n",
       "      <td>2018-03-08</td>\n",
       "      <td>36.5500</td>\n",
       "      <td>37.7700</td>\n",
       "      <td>XME</td>\n",
       "      <td>3605512</td>\n",
       "    </tr>\n",
       "  </tbody>\n",
       "</table>\n",
       "</div>"
      ],
      "text/plain": [
       "  Close_Price        Date      Low Open Price Stock   Volume\n",
       "0     36.9600  2018-03-01  36.1300    36.5100   XME  5556517\n",
       "1     36.9100  2018-03-08  36.5500    37.7700   XME  3605512"
      ]
     },
     "execution_count": 84,
     "metadata": {},
     "output_type": "execute_result"
    }
   ],
   "source": [
    "data_final"
   ]
  },
  {
   "cell_type": "code",
   "execution_count": null,
   "metadata": {
    "collapsed": true
   },
   "outputs": [],
   "source": []
  }
 ],
 "metadata": {
  "kernelspec": {
   "display_name": "Python 3",
   "language": "python",
   "name": "python3"
  },
  "language_info": {
   "codemirror_mode": {
    "name": "ipython",
    "version": 3
   },
   "file_extension": ".py",
   "mimetype": "text/x-python",
   "name": "python",
   "nbconvert_exporter": "python",
   "pygments_lexer": "ipython3",
   "version": "3.6.3"
  }
 },
 "nbformat": 4,
 "nbformat_minor": 2
}
